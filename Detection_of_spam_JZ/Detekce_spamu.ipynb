{
 "cells": [
  {
   "cell_type": "code",
   "execution_count": 154,
   "id": "10b807a6",
   "metadata": {},
   "outputs": [],
   "source": [
    "import pandas as pd\n",
    "import numpy as np\n",
    "from sklearn import preprocessing\n",
    "from sklearn.model_selection import cross_validate\n",
    "from sklearn.decomposition import PCA\n",
    "from sklearn.utils import shuffle\n",
    "import random as rd\n",
    "from numpy.random import default_rng\n",
    "import matplotlib.pyplot as plt\n",
    "import time "
   ]
  },
  {
   "cell_type": "markdown",
   "id": "122c11f7",
   "metadata": {},
   "source": [
    "# Neuronka 2+1"
   ]
  },
  {
   "cell_type": "code",
   "execution_count": 155,
   "id": "70a04cfc",
   "metadata": {},
   "outputs": [],
   "source": [
    "n_feat = 2\n",
    "n_neur = 3\n",
    "c = 0.5\n",
    "u = 0.1\n",
    "b = 1"
   ]
  },
  {
   "cell_type": "code",
   "execution_count": 156,
   "id": "8d3924d4",
   "metadata": {},
   "outputs": [],
   "source": [
    "def init_wei(n_feat,n_neur):\n",
    "    wei = default_rng().random((n_feat+1,n_neur))\n",
    "    return wei\n",
    "\n",
    "def learned_wei(fitted_wei):\n",
    "    return fitted_wei\n",
    "\n",
    "def ACT_fx(x_arr,wei,b,row,neur):\n",
    "    ACT_res = (wei[neur][-1]*b) + np.sum(wei[neur][0:n_feat]*x_arr[row])\n",
    "    return ACT_res\n",
    "\n",
    "def ACT_fx_2(TF_res_in,wei,b,neur):\n",
    "    ACT_res = (wei[neur][-1]*b) + np.sum(wei[neur][0:n_feat]*TF_res_in)\n",
    "    return ACT_res\n",
    "\n",
    "def SIG_fx_in(row,neur,wei,x_arr):\n",
    "    TF_a = 1/(1+np.power(np.e,-ACT_fx(x_arr,wei,b,row,neur)))\n",
    "    return TF_a\n",
    "\n",
    "def SIG_fx_out(neur,TF_res_in,wei,x_arr):\n",
    "    TF_a = 1/(1+np.power(np.e,-ACT_fx_2(TF_res_in,wei,b,neur)))\n",
    "    return TF_a\n",
    "\n",
    "def DELTA_Fx_outside(y_arr,TF_a,row):\n",
    "    delta_out = (y_arr[row]-TF_a)*TF_a*(1-TF_a)\n",
    "    return delta_out\n",
    "\n",
    "def DELTA_Fx_inside(TF_a,wei,delta_out,neur):\n",
    "    delta_in = TF_a*(1-TF_a)*(wei[neur][0:n_feat]*delta_out)\n",
    "    return delta_in\n",
    "\n",
    "def WEI_ch(delta,c,u,TF_a,wei_diff):\n",
    "    wei_diff = (c*delta*TF_a)+(u*wei_diff)\n",
    "    return wei_diff\n",
    "\n",
    "def WEI_ch_inside(delta,c,u,x_arr,row,wei_diff):\n",
    "    l = np.insert(x_arr[row],2,1)\n",
    "    wei_diff = (c*delta*l)+(u*wei_diff)\n",
    "    return wei_diff\n",
    "\n",
    "def neuron_web(N_ep,x_arr,y_arr,choice,fitted_wei):\n",
    "    TF_res_in = np.empty(0)\n",
    "    delta_in = np.empty(0)\n",
    "    wei_add_out = np.zeros(n_feat+1)\n",
    "    wei_add_in_1 = np.zeros(n_feat+1)\n",
    "    wei_add_in_2 = np.zeros(n_feat+1)\n",
    "    if choice == 0:\n",
    "        wei = init_wei(n_feat,n_neur)\n",
    "    else:\n",
    "        wei = learned_wei(fitted_wei)\n",
    "    err_rate_res = [ ]\n",
    "    err_rate = 0\n",
    "    for epoch in range(N_ep):\n",
    "        x_arr,y_arr = shuffle(x_arr,y_arr)\n",
    "        err_rate_res.append(err_rate)\n",
    "        err_rate = 0\n",
    "        res = [ ]\n",
    "        for row in range(len(x_arr)):\n",
    "            for neur in range(n_neur-1):\n",
    "                TF_res_in = np.append(TF_res_in,SIG_fx_in(row,neur,wei,x_arr))\n",
    "            TF_res_out = SIG_fx_out(n_neur-1,TF_res_in,wei,x_arr)\n",
    "            TF_res_in = np.insert(TF_res_in,2,1)\n",
    "            delta_out = DELTA_Fx_outside(y_arr,TF_res_out,row)\n",
    "            wei_add_out = WEI_ch(delta_out,c,u,TF_res_in,wei_add_out)\n",
    "            TF_res_in = np.delete(TF_res_in,-1)\n",
    "            delta_in = np.append(delta_in,DELTA_Fx_inside(TF_res_in,wei,delta_out,2)) \n",
    "            wei_add_in_1 = WEI_ch_inside(delta_in[1],c,u,x_arr,row,wei_add_in_1) \n",
    "            wei_add_in_2 = WEI_ch_inside(delta_in[0],c,u,x_arr,row,wei_add_in_2) \n",
    "            com_wei_add = np.vstack([wei_add_in_2,wei_add_in_1,wei_add_out])\n",
    "            wei = wei+com_wei_add\n",
    "            TF_res_in = np.empty(0)\n",
    "            delta_in = np.empty(0)\n",
    "            res.append(TF_res_out)\n",
    "            err_rate += np.power(TF_res_out-y_arr[row],2)\n",
    "    \n",
    "    \n",
    "    res = np.round(np.array(res))        \n",
    "    prec = abs((abs(np.sum(res) - np.sum(y_arr))/len(y_arr))-1)\n",
    "\n",
    "    return prec, wei"
   ]
  },
  {
   "cell_type": "markdown",
   "id": "e329f4f1",
   "metadata": {},
   "source": [
    "# Preprocessing"
   ]
  },
  {
   "cell_type": "code",
   "execution_count": 157,
   "id": "bb2a4190",
   "metadata": {},
   "outputs": [],
   "source": [
    "name_ls = [ ]\n",
    "for i in range(0,58):\n",
    "    name_ls.append(f'col{i}')"
   ]
  },
  {
   "cell_type": "code",
   "execution_count": 158,
   "id": "355c10a4",
   "metadata": {},
   "outputs": [],
   "source": [
    "df = pd.read_csv('spambasedata.txt',names=name_ls)"
   ]
  },
  {
   "cell_type": "code",
   "execution_count": 159,
   "id": "8c4ff0f2",
   "metadata": {},
   "outputs": [
    {
     "data": {
      "text/html": [
       "<div>\n",
       "<style scoped>\n",
       "    .dataframe tbody tr th:only-of-type {\n",
       "        vertical-align: middle;\n",
       "    }\n",
       "\n",
       "    .dataframe tbody tr th {\n",
       "        vertical-align: top;\n",
       "    }\n",
       "\n",
       "    .dataframe thead th {\n",
       "        text-align: right;\n",
       "    }\n",
       "</style>\n",
       "<table border=\"1\" class=\"dataframe\">\n",
       "  <thead>\n",
       "    <tr style=\"text-align: right;\">\n",
       "      <th></th>\n",
       "      <th>col0</th>\n",
       "      <th>col1</th>\n",
       "      <th>col2</th>\n",
       "      <th>col3</th>\n",
       "      <th>col4</th>\n",
       "      <th>col5</th>\n",
       "      <th>col6</th>\n",
       "      <th>col7</th>\n",
       "      <th>col8</th>\n",
       "      <th>col9</th>\n",
       "      <th>...</th>\n",
       "      <th>col48</th>\n",
       "      <th>col49</th>\n",
       "      <th>col50</th>\n",
       "      <th>col51</th>\n",
       "      <th>col52</th>\n",
       "      <th>col53</th>\n",
       "      <th>col54</th>\n",
       "      <th>col55</th>\n",
       "      <th>col56</th>\n",
       "      <th>col57</th>\n",
       "    </tr>\n",
       "  </thead>\n",
       "  <tbody>\n",
       "    <tr>\n",
       "      <th>0</th>\n",
       "      <td>0.00</td>\n",
       "      <td>0.64</td>\n",
       "      <td>0.64</td>\n",
       "      <td>0.0</td>\n",
       "      <td>0.32</td>\n",
       "      <td>0.00</td>\n",
       "      <td>0.00</td>\n",
       "      <td>0.00</td>\n",
       "      <td>0.00</td>\n",
       "      <td>0.00</td>\n",
       "      <td>...</td>\n",
       "      <td>0.00</td>\n",
       "      <td>0.000</td>\n",
       "      <td>0.0</td>\n",
       "      <td>0.778</td>\n",
       "      <td>0.000</td>\n",
       "      <td>0.000</td>\n",
       "      <td>3.756</td>\n",
       "      <td>61</td>\n",
       "      <td>278</td>\n",
       "      <td>1</td>\n",
       "    </tr>\n",
       "    <tr>\n",
       "      <th>1</th>\n",
       "      <td>0.21</td>\n",
       "      <td>0.28</td>\n",
       "      <td>0.50</td>\n",
       "      <td>0.0</td>\n",
       "      <td>0.14</td>\n",
       "      <td>0.28</td>\n",
       "      <td>0.21</td>\n",
       "      <td>0.07</td>\n",
       "      <td>0.00</td>\n",
       "      <td>0.94</td>\n",
       "      <td>...</td>\n",
       "      <td>0.00</td>\n",
       "      <td>0.132</td>\n",
       "      <td>0.0</td>\n",
       "      <td>0.372</td>\n",
       "      <td>0.180</td>\n",
       "      <td>0.048</td>\n",
       "      <td>5.114</td>\n",
       "      <td>101</td>\n",
       "      <td>1028</td>\n",
       "      <td>1</td>\n",
       "    </tr>\n",
       "    <tr>\n",
       "      <th>2</th>\n",
       "      <td>0.06</td>\n",
       "      <td>0.00</td>\n",
       "      <td>0.71</td>\n",
       "      <td>0.0</td>\n",
       "      <td>1.23</td>\n",
       "      <td>0.19</td>\n",
       "      <td>0.19</td>\n",
       "      <td>0.12</td>\n",
       "      <td>0.64</td>\n",
       "      <td>0.25</td>\n",
       "      <td>...</td>\n",
       "      <td>0.01</td>\n",
       "      <td>0.143</td>\n",
       "      <td>0.0</td>\n",
       "      <td>0.276</td>\n",
       "      <td>0.184</td>\n",
       "      <td>0.010</td>\n",
       "      <td>9.821</td>\n",
       "      <td>485</td>\n",
       "      <td>2259</td>\n",
       "      <td>1</td>\n",
       "    </tr>\n",
       "    <tr>\n",
       "      <th>3</th>\n",
       "      <td>0.00</td>\n",
       "      <td>0.00</td>\n",
       "      <td>0.00</td>\n",
       "      <td>0.0</td>\n",
       "      <td>0.63</td>\n",
       "      <td>0.00</td>\n",
       "      <td>0.31</td>\n",
       "      <td>0.63</td>\n",
       "      <td>0.31</td>\n",
       "      <td>0.63</td>\n",
       "      <td>...</td>\n",
       "      <td>0.00</td>\n",
       "      <td>0.137</td>\n",
       "      <td>0.0</td>\n",
       "      <td>0.137</td>\n",
       "      <td>0.000</td>\n",
       "      <td>0.000</td>\n",
       "      <td>3.537</td>\n",
       "      <td>40</td>\n",
       "      <td>191</td>\n",
       "      <td>1</td>\n",
       "    </tr>\n",
       "    <tr>\n",
       "      <th>4</th>\n",
       "      <td>0.00</td>\n",
       "      <td>0.00</td>\n",
       "      <td>0.00</td>\n",
       "      <td>0.0</td>\n",
       "      <td>0.63</td>\n",
       "      <td>0.00</td>\n",
       "      <td>0.31</td>\n",
       "      <td>0.63</td>\n",
       "      <td>0.31</td>\n",
       "      <td>0.63</td>\n",
       "      <td>...</td>\n",
       "      <td>0.00</td>\n",
       "      <td>0.135</td>\n",
       "      <td>0.0</td>\n",
       "      <td>0.135</td>\n",
       "      <td>0.000</td>\n",
       "      <td>0.000</td>\n",
       "      <td>3.537</td>\n",
       "      <td>40</td>\n",
       "      <td>191</td>\n",
       "      <td>1</td>\n",
       "    </tr>\n",
       "  </tbody>\n",
       "</table>\n",
       "<p>5 rows × 58 columns</p>\n",
       "</div>"
      ],
      "text/plain": [
       "   col0  col1  col2  col3  col4  col5  col6  col7  col8  col9  ...  col48  \\\n",
       "0  0.00  0.64  0.64   0.0  0.32  0.00  0.00  0.00  0.00  0.00  ...   0.00   \n",
       "1  0.21  0.28  0.50   0.0  0.14  0.28  0.21  0.07  0.00  0.94  ...   0.00   \n",
       "2  0.06  0.00  0.71   0.0  1.23  0.19  0.19  0.12  0.64  0.25  ...   0.01   \n",
       "3  0.00  0.00  0.00   0.0  0.63  0.00  0.31  0.63  0.31  0.63  ...   0.00   \n",
       "4  0.00  0.00  0.00   0.0  0.63  0.00  0.31  0.63  0.31  0.63  ...   0.00   \n",
       "\n",
       "   col49  col50  col51  col52  col53  col54  col55  col56  col57  \n",
       "0  0.000    0.0  0.778  0.000  0.000  3.756     61    278      1  \n",
       "1  0.132    0.0  0.372  0.180  0.048  5.114    101   1028      1  \n",
       "2  0.143    0.0  0.276  0.184  0.010  9.821    485   2259      1  \n",
       "3  0.137    0.0  0.137  0.000  0.000  3.537     40    191      1  \n",
       "4  0.135    0.0  0.135  0.000  0.000  3.537     40    191      1  \n",
       "\n",
       "[5 rows x 58 columns]"
      ]
     },
     "execution_count": 159,
     "metadata": {},
     "output_type": "execute_result"
    }
   ],
   "source": [
    "df.head()"
   ]
  },
  {
   "cell_type": "markdown",
   "id": "d7a6d92c",
   "metadata": {},
   "source": [
    "Normalizace"
   ]
  },
  {
   "cell_type": "code",
   "execution_count": 160,
   "id": "105ba374",
   "metadata": {},
   "outputs": [],
   "source": [
    "min_max_scaler = preprocessing.MinMaxScaler()\n",
    "arr_df = min_max_scaler.fit_transform(df)\n",
    "targets = arr_df[:,-1]"
   ]
  },
  {
   "cell_type": "code",
   "execution_count": 161,
   "id": "58c4eeb4",
   "metadata": {},
   "outputs": [],
   "source": [
    "DF_corr = pd.DataFrame(arr_df)\n",
    "DF_corr.columns = name_ls"
   ]
  },
  {
   "cell_type": "markdown",
   "id": "cb687b3c",
   "metadata": {},
   "source": [
    "Pearson"
   ]
  },
  {
   "cell_type": "code",
   "execution_count": 162,
   "id": "199ca176",
   "metadata": {
    "scrolled": true
   },
   "outputs": [
    {
     "data": {
      "text/html": [
       "<div>\n",
       "<style scoped>\n",
       "    .dataframe tbody tr th:only-of-type {\n",
       "        vertical-align: middle;\n",
       "    }\n",
       "\n",
       "    .dataframe tbody tr th {\n",
       "        vertical-align: top;\n",
       "    }\n",
       "\n",
       "    .dataframe thead th {\n",
       "        text-align: right;\n",
       "    }\n",
       "</style>\n",
       "<table border=\"1\" class=\"dataframe\">\n",
       "  <thead>\n",
       "    <tr style=\"text-align: right;\">\n",
       "      <th></th>\n",
       "      <th>col57</th>\n",
       "    </tr>\n",
       "  </thead>\n",
       "  <tbody>\n",
       "    <tr>\n",
       "      <th>col57</th>\n",
       "      <td>1.000000</td>\n",
       "    </tr>\n",
       "    <tr>\n",
       "      <th>col20</th>\n",
       "      <td>0.383234</td>\n",
       "    </tr>\n",
       "    <tr>\n",
       "      <th>col22</th>\n",
       "      <td>0.334787</td>\n",
       "    </tr>\n",
       "    <tr>\n",
       "      <th>col6</th>\n",
       "      <td>0.332117</td>\n",
       "    </tr>\n",
       "    <tr>\n",
       "      <th>col52</th>\n",
       "      <td>0.323629</td>\n",
       "    </tr>\n",
       "  </tbody>\n",
       "</table>\n",
       "</div>"
      ],
      "text/plain": [
       "          col57\n",
       "col57  1.000000\n",
       "col20  0.383234\n",
       "col22  0.334787\n",
       "col6   0.332117\n",
       "col52  0.323629"
      ]
     },
     "execution_count": 162,
     "metadata": {},
     "output_type": "execute_result"
    }
   ],
   "source": [
    "corr_pear = abs(DF_corr.corr(method='pearson')['col57'])\n",
    "corr_pear_r = corr_pear.to_frame()\n",
    "corr_pear_r.sort_values(by=['col57'],ascending = False).head(5)"
   ]
  },
  {
   "cell_type": "markdown",
   "id": "3fe527bc",
   "metadata": {},
   "source": [
    "Spearman"
   ]
  },
  {
   "cell_type": "code",
   "execution_count": 163,
   "id": "2a7cdc45",
   "metadata": {},
   "outputs": [
    {
     "data": {
      "text/html": [
       "<div>\n",
       "<style scoped>\n",
       "    .dataframe tbody tr th:only-of-type {\n",
       "        vertical-align: middle;\n",
       "    }\n",
       "\n",
       "    .dataframe tbody tr th {\n",
       "        vertical-align: top;\n",
       "    }\n",
       "\n",
       "    .dataframe thead th {\n",
       "        text-align: right;\n",
       "    }\n",
       "</style>\n",
       "<table border=\"1\" class=\"dataframe\">\n",
       "  <thead>\n",
       "    <tr style=\"text-align: right;\">\n",
       "      <th></th>\n",
       "      <th>col57</th>\n",
       "    </tr>\n",
       "  </thead>\n",
       "  <tbody>\n",
       "    <tr>\n",
       "      <th>col57</th>\n",
       "      <td>1.000000</td>\n",
       "    </tr>\n",
       "    <tr>\n",
       "      <th>col51</th>\n",
       "      <td>0.597854</td>\n",
       "    </tr>\n",
       "    <tr>\n",
       "      <th>col52</th>\n",
       "      <td>0.565633</td>\n",
       "    </tr>\n",
       "    <tr>\n",
       "      <th>col6</th>\n",
       "      <td>0.518778</td>\n",
       "    </tr>\n",
       "    <tr>\n",
       "      <th>col55</th>\n",
       "      <td>0.515157</td>\n",
       "    </tr>\n",
       "  </tbody>\n",
       "</table>\n",
       "</div>"
      ],
      "text/plain": [
       "          col57\n",
       "col57  1.000000\n",
       "col51  0.597854\n",
       "col52  0.565633\n",
       "col6   0.518778\n",
       "col55  0.515157"
      ]
     },
     "execution_count": 163,
     "metadata": {},
     "output_type": "execute_result"
    }
   ],
   "source": [
    "corr_spear = abs(DF_corr.corr(method='spearman')['col57'])\n",
    "corr_spear_r = corr_spear.to_frame()\n",
    "corr_spear_r.sort_values(by=['col57'],ascending = False).head(5)"
   ]
  },
  {
   "cell_type": "markdown",
   "id": "ffb14fbf",
   "metadata": {},
   "source": [
    "# Testing "
   ]
  },
  {
   "cell_type": "markdown",
   "id": "37b4c368",
   "metadata": {},
   "source": [
    "Metoda 1 (za pomocí corr)"
   ]
  },
  {
   "cell_type": "code",
   "execution_count": 164,
   "id": "7263a083",
   "metadata": {},
   "outputs": [
    {
     "data": {
      "text/plain": [
       "(4601, 2)"
      ]
     },
     "execution_count": 164,
     "metadata": {},
     "output_type": "execute_result"
    }
   ],
   "source": [
    "x_arr_m1 = np.vstack((arr_df[:,51],arr_df[:,52]))\n",
    "x_arr_m1 = x_arr_m1.T\n",
    "y_arr_m1 = targets\n",
    "np.shape(x_arr_m1)"
   ]
  },
  {
   "cell_type": "code",
   "execution_count": 165,
   "id": "784b1922",
   "metadata": {},
   "outputs": [],
   "source": [
    "def cross_valid(data_x,data_y,n_div):\n",
    "    div_data_x,div_data_y, res = [ ],[ ],[ ]\n",
    "    data_x,data_y = shuffle(data_x,data_y)\n",
    "    for div in range(n_div):\n",
    "        div_data_x.append(data_x[(div*len(data_x))//n_div:((div+1)*len(data_x))//n_div][:])\n",
    "        div_data_y.append(data_y[(div*len(data_y))//n_div:((div+1)*len(data_y))//n_div])\n",
    "    for it in range(n_div):\n",
    "        train_x, train_y, test_x, test_y = np.empty(2), np.empty(0), np.empty(2), np.empty(0)\n",
    "        test_x, test_y = div_data_x[it], div_data_y[it]\n",
    "        for i in range(n_div):\n",
    "            if i == it:\n",
    "                continue\n",
    "            else:\n",
    "                train_x = np.vstack((train_x,div_data_x[i]))\n",
    "                train_y = np.append(train_y,div_data_y[i])\n",
    "                \n",
    "        train_x = np.delete(train_x,0,0)\n",
    "        kk, fitted_wei = neuron_web(10,train_x,train_y,0,None)\n",
    "        prec, wei  = neuron_web(1,test_x,test_y,1,fitted_wei)\n",
    "        res.append(prec)\n",
    "    return res"
   ]
  },
  {
   "cell_type": "code",
   "execution_count": 166,
   "id": "e3925f73",
   "metadata": {},
   "outputs": [
    {
     "name": "stdout",
     "output_type": "stream",
     "text": [
      "43.17350745201111 sec\n"
     ]
    }
   ],
   "source": [
    "start_time = time.time()\n",
    "res  = cross_valid(x_arr_m1,y_arr_m1,10)\n",
    "print('%s sec'%(time.time()-start_time))"
   ]
  },
  {
   "cell_type": "code",
   "execution_count": 167,
   "id": "a4e5623e",
   "metadata": {},
   "outputs": [],
   "source": [
    "name_ls = [ ]\n",
    "for i in range(0,10):\n",
    "    name_ls.append(f'fold{i+1}')\n",
    "columns_lab = name_ls\n",
    "columns_lab.append('Mean')\n",
    "results = res\n",
    "results.append(np.mean(res))"
   ]
  },
  {
   "cell_type": "code",
   "execution_count": 168,
   "id": "c75a5bb2",
   "metadata": {},
   "outputs": [],
   "source": [
    "DF = pd.DataFrame(results)\n",
    "DF = DF.T\n",
    "DF.columns = columns_lab"
   ]
  },
  {
   "cell_type": "code",
   "execution_count": 169,
   "id": "ddafe24d",
   "metadata": {},
   "outputs": [
    {
     "data": {
      "text/html": [
       "<div>\n",
       "<style scoped>\n",
       "    .dataframe tbody tr th:only-of-type {\n",
       "        vertical-align: middle;\n",
       "    }\n",
       "\n",
       "    .dataframe tbody tr th {\n",
       "        vertical-align: top;\n",
       "    }\n",
       "\n",
       "    .dataframe thead th {\n",
       "        text-align: right;\n",
       "    }\n",
       "</style>\n",
       "<table border=\"1\" class=\"dataframe\">\n",
       "  <thead>\n",
       "    <tr style=\"text-align: right;\">\n",
       "      <th></th>\n",
       "      <th>fold1</th>\n",
       "      <th>fold2</th>\n",
       "      <th>fold3</th>\n",
       "      <th>fold4</th>\n",
       "      <th>fold5</th>\n",
       "      <th>fold6</th>\n",
       "      <th>fold7</th>\n",
       "      <th>fold8</th>\n",
       "      <th>fold9</th>\n",
       "      <th>fold10</th>\n",
       "      <th>Mean</th>\n",
       "    </tr>\n",
       "  </thead>\n",
       "  <tbody>\n",
       "    <tr>\n",
       "      <th>0</th>\n",
       "      <td>0.873913</td>\n",
       "      <td>0.904348</td>\n",
       "      <td>0.869565</td>\n",
       "      <td>0.865217</td>\n",
       "      <td>0.891304</td>\n",
       "      <td>0.876087</td>\n",
       "      <td>0.908696</td>\n",
       "      <td>0.897826</td>\n",
       "      <td>0.9</td>\n",
       "      <td>0.887202</td>\n",
       "      <td>0.887416</td>\n",
       "    </tr>\n",
       "  </tbody>\n",
       "</table>\n",
       "</div>"
      ],
      "text/plain": [
       "      fold1     fold2     fold3     fold4     fold5     fold6     fold7  \\\n",
       "0  0.873913  0.904348  0.869565  0.865217  0.891304  0.876087  0.908696   \n",
       "\n",
       "      fold8  fold9    fold10      Mean  \n",
       "0  0.897826    0.9  0.887202  0.887416  "
      ]
     },
     "execution_count": 169,
     "metadata": {},
     "output_type": "execute_result"
    }
   ],
   "source": [
    "DF"
   ]
  },
  {
   "cell_type": "markdown",
   "id": "a712e246",
   "metadata": {},
   "source": [
    "Metoda 2 PCA"
   ]
  },
  {
   "cell_type": "code",
   "execution_count": 170,
   "id": "3cd4b970",
   "metadata": {},
   "outputs": [],
   "source": [
    "pca_x = arr_df.copy()\n",
    "pca_x = np.delete(pca_x,-1,-1)\n",
    "pca_y = targets"
   ]
  },
  {
   "cell_type": "code",
   "execution_count": 171,
   "id": "f7516ee1",
   "metadata": {},
   "outputs": [],
   "source": [
    "pca = PCA(n_components=2)\n",
    "pca.fit(pca_x)\n",
    "pca_X = pca.transform(pca_x)"
   ]
  },
  {
   "cell_type": "code",
   "execution_count": 172,
   "id": "a5e8335a",
   "metadata": {},
   "outputs": [
    {
     "data": {
      "text/plain": [
       "(4601, 2)"
      ]
     },
     "execution_count": 172,
     "metadata": {},
     "output_type": "execute_result"
    }
   ],
   "source": [
    "np.shape(pca_X)"
   ]
  },
  {
   "cell_type": "code",
   "execution_count": 173,
   "id": "f7401ec2",
   "metadata": {},
   "outputs": [
    {
     "name": "stdout",
     "output_type": "stream",
     "text": [
      "43.126375675201416 sec\n"
     ]
    }
   ],
   "source": [
    "start_time = time.time()\n",
    "res_PCA  = cross_valid(pca_X,pca_y,10)\n",
    "print('%s sec'%(time.time()-start_time))"
   ]
  },
  {
   "cell_type": "code",
   "execution_count": 174,
   "id": "6ede0117",
   "metadata": {},
   "outputs": [],
   "source": [
    "name_ls = [ ]\n",
    "for i in range(0,10):\n",
    "    name_ls.append(f'fold{i+1}')\n",
    "columns_lab = name_ls\n",
    "columns_lab.append('Mean')\n",
    "results = res_PCA\n",
    "results.append(np.mean(res_PCA))"
   ]
  },
  {
   "cell_type": "code",
   "execution_count": 175,
   "id": "cb2272fc",
   "metadata": {},
   "outputs": [],
   "source": [
    "DF_PCA = pd.DataFrame(results)\n",
    "DF_PCA = DF_PCA.T\n",
    "DF_PCA.columns = columns_lab"
   ]
  },
  {
   "cell_type": "code",
   "execution_count": 176,
   "id": "116666f7",
   "metadata": {},
   "outputs": [
    {
     "data": {
      "text/html": [
       "<div>\n",
       "<style scoped>\n",
       "    .dataframe tbody tr th:only-of-type {\n",
       "        vertical-align: middle;\n",
       "    }\n",
       "\n",
       "    .dataframe tbody tr th {\n",
       "        vertical-align: top;\n",
       "    }\n",
       "\n",
       "    .dataframe thead th {\n",
       "        text-align: right;\n",
       "    }\n",
       "</style>\n",
       "<table border=\"1\" class=\"dataframe\">\n",
       "  <thead>\n",
       "    <tr style=\"text-align: right;\">\n",
       "      <th></th>\n",
       "      <th>fold1</th>\n",
       "      <th>fold2</th>\n",
       "      <th>fold3</th>\n",
       "      <th>fold4</th>\n",
       "      <th>fold5</th>\n",
       "      <th>fold6</th>\n",
       "      <th>fold7</th>\n",
       "      <th>fold8</th>\n",
       "      <th>fold9</th>\n",
       "      <th>fold10</th>\n",
       "      <th>Mean</th>\n",
       "    </tr>\n",
       "  </thead>\n",
       "  <tbody>\n",
       "    <tr>\n",
       "      <th>0</th>\n",
       "      <td>0.986957</td>\n",
       "      <td>0.952174</td>\n",
       "      <td>0.993478</td>\n",
       "      <td>0.954348</td>\n",
       "      <td>0.984783</td>\n",
       "      <td>0.96087</td>\n",
       "      <td>0.965217</td>\n",
       "      <td>0.982609</td>\n",
       "      <td>0.976087</td>\n",
       "      <td>0.976139</td>\n",
       "      <td>0.973266</td>\n",
       "    </tr>\n",
       "  </tbody>\n",
       "</table>\n",
       "</div>"
      ],
      "text/plain": [
       "      fold1     fold2     fold3     fold4     fold5    fold6     fold7  \\\n",
       "0  0.986957  0.952174  0.993478  0.954348  0.984783  0.96087  0.965217   \n",
       "\n",
       "      fold8     fold9    fold10      Mean  \n",
       "0  0.982609  0.976087  0.976139  0.973266  "
      ]
     },
     "execution_count": 176,
     "metadata": {},
     "output_type": "execute_result"
    }
   ],
   "source": [
    "DF_PCA"
   ]
  },
  {
   "cell_type": "code",
   "execution_count": null,
   "id": "b92c7818",
   "metadata": {},
   "outputs": [],
   "source": []
  },
  {
   "cell_type": "code",
   "execution_count": null,
   "id": "0aa835d3",
   "metadata": {},
   "outputs": [],
   "source": []
  },
  {
   "cell_type": "code",
   "execution_count": null,
   "id": "c79edd6f",
   "metadata": {},
   "outputs": [],
   "source": []
  },
  {
   "cell_type": "code",
   "execution_count": null,
   "id": "0b6d2953",
   "metadata": {},
   "outputs": [],
   "source": []
  }
 ],
 "metadata": {
  "kernelspec": {
   "display_name": "Python 3",
   "language": "python",
   "name": "python3"
  },
  "language_info": {
   "codemirror_mode": {
    "name": "ipython",
    "version": 3
   },
   "file_extension": ".py",
   "mimetype": "text/x-python",
   "name": "python",
   "nbconvert_exporter": "python",
   "pygments_lexer": "ipython3",
   "version": "3.8.8"
  },
  "toc": {
   "base_numbering": 1,
   "nav_menu": {},
   "number_sections": true,
   "sideBar": true,
   "skip_h1_title": false,
   "title_cell": "Table of Contents",
   "title_sidebar": "Contents",
   "toc_cell": false,
   "toc_position": {},
   "toc_section_display": true,
   "toc_window_display": false
  },
  "varInspector": {
   "cols": {
    "lenName": 16,
    "lenType": 16,
    "lenVar": 40
   },
   "kernels_config": {
    "python": {
     "delete_cmd_postfix": "",
     "delete_cmd_prefix": "del ",
     "library": "var_list.py",
     "varRefreshCmd": "print(var_dic_list())"
    },
    "r": {
     "delete_cmd_postfix": ") ",
     "delete_cmd_prefix": "rm(",
     "library": "var_list.r",
     "varRefreshCmd": "cat(var_dic_list()) "
    }
   },
   "types_to_exclude": [
    "module",
    "function",
    "builtin_function_or_method",
    "instance",
    "_Feature"
   ],
   "window_display": false
  }
 },
 "nbformat": 4,
 "nbformat_minor": 5
}
