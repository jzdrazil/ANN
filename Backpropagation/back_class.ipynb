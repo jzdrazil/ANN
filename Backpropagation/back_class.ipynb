{
 "cells": [
  {
   "cell_type": "code",
   "execution_count": 70,
   "id": "1a84da96",
   "metadata": {},
   "outputs": [],
   "source": [
    "import numpy as np\n",
    "import pandas as pd\n",
    "import matplotlib.pyplot as plt\n",
    "import matplotlib as mpl\n",
    "import sklearn\n",
    "from mpl_toolkits import mplot3d\n",
    "from sklearn.model_selection import train_test_split\n",
    "from sklearn import preprocessing\n",
    "from sklearn.utils import shuffle\n",
    "import random as rd\n",
    "from numpy.random import default_rng"
   ]
  },
  {
   "cell_type": "code",
   "execution_count": 71,
   "id": "e1ecf42c",
   "metadata": {
    "scrolled": true
   },
   "outputs": [],
   "source": [
    "data = pd.read_csv('data.csv')\n",
    "data_x = np.array(data.iloc[:,0:2])\n",
    "data_y = np.array(data.iloc[:,-1])"
   ]
  },
  {
   "cell_type": "code",
   "execution_count": 76,
   "id": "190cf45a",
   "metadata": {},
   "outputs": [
    {
     "data": {
      "image/png": "[encoded data removed]",
      "text/plain": [
       "<Figure size 576x360 with 1 Axes>"
      ]
     },
     "metadata": {
      "needs_background": "light"
     },
     "output_type": "display_data"
    }
   ],
   "source": [
    "fig = plt.figure(figsize =(8, 5))\n",
    "color_theme = np.array(['yellow','black'])\n",
    "plt.scatter(data_x[:,0],data_x[:,1],c=color_theme[data_y])\n",
    "plt.show()"
   ]
  },
  {
   "cell_type": "code",
   "execution_count": 72,
   "id": "868c6f6e",
   "metadata": {},
   "outputs": [],
   "source": [
    "class Backprop:\n",
    "    \n",
    "    def __init__(self,n_epoch,n_neur=3,b=1,c=0.5, u=0.1):\n",
    "        self.u = u\n",
    "        self.c =c\n",
    "        self.b = b\n",
    "        self.n_neur = n_neur\n",
    "        self.n_epoch = n_epoch\n",
    "        self.wei = None\n",
    "        self.init_wei = self._init_wei\n",
    "        self.ACT_fx = self._ACT_fx\n",
    "        self.ACT_fx_2 = self._ACT_fx_2\n",
    "        self.SIG_fx_in = self._SIG_fx_in\n",
    "        self.SIG_fx_out = self._SIG_fx_out\n",
    "        self.DELTA_Fx_outside = self._DELTA_Fx_outside\n",
    "        self.DELTA_Fx_inside = self._DELTA_Fx_inside\n",
    "        self.WEI_ch = self._WEI_ch\n",
    "        self.WEI_ch_inside = self._WEI_ch_inside\n",
    "        \n",
    "    def _init_wei(self,x_arr):\n",
    "        self.wei = default_rng().random((np.shape(data_x)[1]+1,self.n_neur))\n",
    "        return self.wei\n",
    "\n",
    "    def _ACT_fx(self,x_arr,row,neur):\n",
    "        ACT_res = (self.wei[neur][-1]*self.b) + np.sum(self.wei[neur][0:np.shape(data_x)[1]]*x_arr[row])\n",
    "        return ACT_res\n",
    "\n",
    "    def _ACT_fx_2(self,TF_res_in,neur):\n",
    "        ACT_res = (self.wei[neur][-1]*self.b) + np.sum(self.wei[neur][0:np.shape(data_x)[1]]*TF_res_in)\n",
    "        return ACT_res\n",
    "\n",
    "    def _SIG_fx_in(self,row,neur,x_arr):\n",
    "        TF_a = 1/(1+np.power(np.e,-self.ACT_fx(x_arr,row,neur)))\n",
    "        return TF_a\n",
    "\n",
    "    def _SIG_fx_out(self,neur,TF_res_in,x_arr):\n",
    "        TF_a = 1/(1+np.power(np.e,-self.ACT_fx_2(TF_res_in,neur)))\n",
    "        return TF_a\n",
    "\n",
    "    def _DELTA_Fx_outside(self,y_arr,TF_a,row):\n",
    "        delta_out = (y_arr[row]-TF_a)*TF_a*(1-TF_a)\n",
    "        return delta_out\n",
    "\n",
    "    def _DELTA_Fx_inside(self,TF_a,delta_out,neur):\n",
    "        delta_in = TF_a*(1-TF_a)*(self.wei[neur][0:np.shape(data_x)[1]]*delta_out)\n",
    "        return delta_in\n",
    "\n",
    "    def _WEI_ch(self,delta,TF_a,wei_diff):\n",
    "        wei_diff = (self.c*delta*TF_a)+(self.u*wei_diff)\n",
    "        return wei_diff\n",
    "\n",
    "    def _WEI_ch_inside(self,delta,x_arr,row,wei_diff):\n",
    "        l = np.insert(x_arr[row],2,1)\n",
    "        wei_diff = (self.c*delta*l)+(self.u*wei_diff)\n",
    "        return wei_diff\n",
    "\n",
    "    def fit(self,x_arr,y_arr):\n",
    "        TF_res_in, delta_in = np.empty(0), np.empty(0)\n",
    "        wei_add_out,wei_add_in_1,wei_add_in_2 = np.zeros(np.shape(data_x)[1]+1),np.zeros(np.shape(data_x)[1]+1),np.zeros(np.shape(data_x)[1]+1)\n",
    "        self.wei = self.init_wei(np.shape(data_x)[1])\n",
    "        err_rate_res = [ ]\n",
    "        err_rate = 0\n",
    "        for epoch in range(self.n_epoch):\n",
    "            x_arr,y_arr = shuffle(x_arr,y_arr)\n",
    "            err_rate_res.append(err_rate)\n",
    "            err_rate = 0\n",
    "            res = [ ]\n",
    "            for row, ele in enumerate(x_arr):\n",
    "                for neur in range(self.n_neur-1):\n",
    "                    TF_res_in = np.append(TF_res_in,self.SIG_fx_in(row,neur,x_arr))\n",
    "                TF_res_out = self.SIG_fx_out(self.n_neur-1,TF_res_in,x_arr)\n",
    "                TF_res_in = np.insert(TF_res_in,2,1)\n",
    "                delta_out = self.DELTA_Fx_outside(y_arr,TF_res_out,row)\n",
    "                wei_add_out = self.WEI_ch(delta_out,TF_res_in,wei_add_out)\n",
    "                TF_res_in = np.delete(TF_res_in,-1)\n",
    "                delta_in = np.append(delta_in,self.DELTA_Fx_inside(TF_res_in,delta_out,2)) \n",
    "                wei_add_in_1 = self.WEI_ch_inside(delta_in[1],x_arr,row,wei_add_in_1) \n",
    "                wei_add_in_2 = self.WEI_ch_inside(delta_in[0],x_arr,row,wei_add_in_2) \n",
    "                com_wei_add = np.vstack([wei_add_in_2,wei_add_in_1,wei_add_out])\n",
    "                self.wei = self.wei+com_wei_add\n",
    "                TF_res_in = np.empty(0)\n",
    "                delta_in = np.empty(0)\n",
    "                res.append(TF_res_out)\n",
    "                err_rate += np.power(TF_res_out-y_arr[row],2)\n",
    "        return err_rate_res"
   ]
  },
  {
   "cell_type": "code",
   "execution_count": 73,
   "id": "fe15847b",
   "metadata": {},
   "outputs": [],
   "source": [
    "model = Backprop(800)"
   ]
  },
  {
   "cell_type": "code",
   "execution_count": 74,
   "id": "222a48ed",
   "metadata": {},
   "outputs": [],
   "source": [
    "err = model.fit(data_x,data_y)"
   ]
  },
  {
   "cell_type": "code",
   "execution_count": 75,
   "id": "0249eecc",
   "metadata": {},
   "outputs": [
    {
     "data": {
      "image/png": "[encoded data removed]",
      "text/plain": [
       "<Figure size 432x360 with 1 Axes>"
      ]
     },
     "metadata": {
      "needs_background": "light"
     },
     "output_type": "display_data"
    }
   ],
   "source": [
    "fig = plt.figure(figsize =(6, 5))\n",
    "plt.plot(err[1:],color = 'red')\n",
    "plt.ylabel('err rate')\n",
    "plt.xlabel('Epochs')\n",
    "plt.show()"
   ]
  },
  {
   "cell_type": "code",
   "execution_count": 78,
   "id": "ecfb2ebb",
   "metadata": {},
   "outputs": [],
   "source": [
    "x_arr = np.array([[0,0],[0,1],[1,0],[1,1]])\n",
    "y_arr = np.array([0,1,1,0])"
   ]
  },
  {
   "cell_type": "code",
   "execution_count": 79,
   "id": "40dbf30e",
   "metadata": {},
   "outputs": [
    {
     "data": {
      "image/png": "[encoded data removed]",
      "text/plain": [
       "<Figure size 576x360 with 1 Axes>"
      ]
     },
     "metadata": {
      "needs_background": "light"
     },
     "output_type": "display_data"
    }
   ],
   "source": [
    "fig = plt.figure(figsize =(8, 5))\n",
    "color_theme = np.array(['yellow','black'])\n",
    "plt.scatter(x_arr[:,0],x_arr[:,1],c=color_theme[y_arr])\n",
    "plt.show()"
   ]
  },
  {
   "cell_type": "code",
   "execution_count": 80,
   "id": "ba14be5a",
   "metadata": {},
   "outputs": [],
   "source": [
    "model1 = Backprop(5_000)\n",
    "err1 = model1.fit(x_arr,y_arr)"
   ]
  },
  {
   "cell_type": "code",
   "execution_count": 81,
   "id": "66a18c0d",
   "metadata": {},
   "outputs": [
    {
     "data": {
      "image/png": "[encoded data removed]",
      "text/plain": [
       "<Figure size 432x360 with 1 Axes>"
      ]
     },
     "metadata": {
      "needs_background": "light"
     },
     "output_type": "display_data"
    }
   ],
   "source": [
    "fig = plt.figure(figsize =(6, 5))\n",
    "plt.plot(err1[1:],color = 'red')\n",
    "plt.ylabel('err rate')\n",
    "plt.xlabel('Epochs')\n",
    "plt.show()"
   ]
  },
  {
   "cell_type": "code",
   "execution_count": null,
   "id": "9e313ece",
   "metadata": {},
   "outputs": [],
   "source": []
  },
  {
   "cell_type": "code",
   "execution_count": null,
   "id": "f194872d",
   "metadata": {},
   "outputs": [],
   "source": []
  },
  {
   "cell_type": "code",
   "execution_count": null,
   "id": "278158e5",
   "metadata": {},
   "outputs": [],
   "source": []
  },
  {
   "cell_type": "code",
   "execution_count": null,
   "id": "ee659f83",
   "metadata": {},
   "outputs": [],
   "source": []
  }
 ],
 "metadata": {
  "kernelspec": {
   "display_name": "Python 3",
   "language": "python",
   "name": "python3"
  },
  "language_info": {
   "codemirror_mode": {
    "name": "ipython",
    "version": 3
   },
   "file_extension": ".py",
   "mimetype": "text/x-python",
   "name": "python",
   "nbconvert_exporter": "python",
   "pygments_lexer": "ipython3",
   "version": "3.8.8"
  },
  "toc": {
   "base_numbering": 1,
   "nav_menu": {},
   "number_sections": true,
   "sideBar": true,
   "skip_h1_title": false,
   "title_cell": "Table of Contents",
   "title_sidebar": "Contents",
   "toc_cell": false,
   "toc_position": {},
   "toc_section_display": true,
   "toc_window_display": false
  },
  "varInspector": {
   "cols": {
    "lenName": 16,
    "lenType": 16,
    "lenVar": 40
   },
   "kernels_config": {
    "python": {
     "delete_cmd_postfix": "",
     "delete_cmd_prefix": "del ",
     "library": "var_list.py",
     "varRefreshCmd": "print(var_dic_list())"
    },
    "r": {
     "delete_cmd_postfix": ") ",
     "delete_cmd_prefix": "rm(",
     "library": "var_list.r",
     "varRefreshCmd": "cat(var_dic_list()) "
    }
   },
   "types_to_exclude": [
    "module",
    "function",
    "builtin_function_or_method",
    "instance",
    "_Feature"
   ],
   "window_display": false
  }
 },
 "nbformat": 4,
 "nbformat_minor": 5
}
