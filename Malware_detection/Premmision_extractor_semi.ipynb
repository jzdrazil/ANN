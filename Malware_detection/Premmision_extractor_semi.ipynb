{
 "cells": [
  {
   "cell_type": "code",
   "execution_count": 1,
   "id": "0922f057",
   "metadata": {},
   "outputs": [],
   "source": [
    "import os\n",
    "import numpy as np\n",
    "import pandas as pd\n",
    "import random as rn\n",
    "from sklearn.utils import shuffle\n",
    "from sklearn.model_selection import train_test_split\n",
    "from sklearn.svm import SVC\n",
    "from sklearn import tree\n",
    "from sklearn.neural_network import MLPClassifier\n",
    "from sklearn.model_selection import cross_val_score\n",
    "from sklearn.metrics import confusion_matrix\n",
    "from sklearn.model_selection import cross_val_predict\n",
    "import seaborn as sns"
   ]
  },
  {
   "cell_type": "markdown",
   "id": "19f00099",
   "metadata": {},
   "source": [
    "Data nejsou součástí protože se často jedné o malwer!!"
   ]
  },
  {
   "cell_type": "code",
   "execution_count": 2,
   "id": "30b800e5",
   "metadata": {},
   "outputs": [],
   "source": [
    "def load_premmission(directory):\n",
    "    list_of_premm = [ ]\n",
    "    list_of_premm_sep = [ ]\n",
    "    my_dir = os.listdir(directory)\n",
    "    for apk in my_dir:\n",
    "        apk_f = directory+ apk\n",
    "        premm = os.popen(f\"aapt d permissions '{apk_f}'\").read()\n",
    "        premm_sorted  = premm.split('\\n')\n",
    "        step2 = []\n",
    "        for row in range(len(premm_sorted)):\n",
    "            step = premm_sorted[row].partition(\"name=\")[2]\n",
    "            list_of_premm.append(step)\n",
    "            list_of_premm = list(filter(None, list_of_premm))\n",
    "            step2.append(step)\n",
    "            step2 = list(filter(None, step2))\n",
    "        list_of_premm_sep.append(step2)\n",
    "        list_of_premm_sep = list(filter(None, list_of_premm_sep))\n",
    "    for i in range(len(list_of_premm)):\n",
    "        list_of_premm[i] = list_of_premm[i].strip(\"'\")\n",
    "    list_of_premm = np.unique(list_of_premm).tolist()\n",
    "    for ls in range(len(list_of_premm_sep)):\n",
    "        for ele in range(len(list_of_premm_sep[ls])):\n",
    "            list_of_premm_sep[ls][ele]= list_of_premm_sep[ls][ele].strip(\"'\")\n",
    "        \n",
    "    return list_of_premm, list_of_premm_sep"
   ]
  },
  {
   "cell_type": "markdown",
   "id": "aee2793e",
   "metadata": {},
   "source": [
    "# Infi"
   ]
  },
  {
   "cell_type": "code",
   "execution_count": 3,
   "id": "b09e7968",
   "metadata": {},
   "outputs": [],
   "source": [
    "directory_infi = '/home/kali/Desktop/apk/infi_test/'\n",
    "list_of_premm_infi, list_of_premm_sep_infi = load_premmission(directory_infi)"
   ]
  },
  {
   "cell_type": "markdown",
   "id": "e38c35e9",
   "metadata": {},
   "source": [
    "# Beign"
   ]
  },
  {
   "cell_type": "code",
   "execution_count": 4,
   "id": "03f7dd80",
   "metadata": {},
   "outputs": [],
   "source": [
    "directory_beign = '/home/kali/Desktop/apk/beign_test1_1/'\n",
    "list_of_premm_beign, list_of_premm_sep_beign = load_premmission(directory_beign)"
   ]
  },
  {
   "cell_type": "markdown",
   "id": "33ebb490",
   "metadata": {},
   "source": [
    "subsets for graphs"
   ]
  },
  {
   "cell_type": "code",
   "execution_count": 5,
   "id": "badf39dc",
   "metadata": {
    "collapsed": true
   },
   "outputs": [
    {
     "name": "stderr",
     "output_type": "stream",
     "text": [
      "ERROR: dump failed because no AndroidManifest.xml found\n"
     ]
    }
   ],
   "source": [
    "directory_beign1_2 = '/home/kali/Desktop/apk/beign_test1_2/'\n",
    "list_of_premm_beign1_2, list_of_premm_sep_beign1_2 = load_premmission(directory_beign1_2)\n",
    "directory_beign1_3 = '/home/kali/Desktop/apk/beign_test1_3/'\n",
    "list_of_premm_beign1_3, list_of_premm_sep_beign1_3 = load_premmission(directory_beign1_3)\n",
    "directory_beign1_4 = '/home/kali/Desktop/apk/beign_test1_4/'\n",
    "list_of_premm_beign1_4, list_of_premm_sep_beign1_4 = load_premmission(directory_beign1_4)"
   ]
  },
  {
   "cell_type": "code",
   "execution_count": 6,
   "id": "20556636",
   "metadata": {},
   "outputs": [],
   "source": [
    "over_b = list_of_premm_sep_beign + list_of_premm_sep_beign1_2 +list_of_premm_sep_beign1_3 + list_of_premm_sep_beign1_4"
   ]
  },
  {
   "cell_type": "markdown",
   "id": "7cf1a98c",
   "metadata": {},
   "source": [
    "# Join infi-beign + empty feature vector "
   ]
  },
  {
   "cell_type": "code",
   "execution_count": 7,
   "id": "ce2433ff",
   "metadata": {},
   "outputs": [],
   "source": [
    "def feat_vec(infi_overall,beign_overall,infi_sep,beign_sep):\n",
    "    over_all_sep = infi_sep+beign_sep\n",
    "    over_all_premm = infi_overall + beign_overall\n",
    "    over_all_premm = np.unique(over_all_premm).tolist()\n",
    "    rn.shuffle(over_all_premm)\n",
    "    number_of_rows = len(infi_sep)+len(beign_sep)\n",
    "    empty_feat_vec = np.zeros((number_of_rows,len(over_all_premm)),int)\n",
    "    return over_all_premm, empty_feat_vec, over_all_sep"
   ]
  },
  {
   "cell_type": "code",
   "execution_count": 8,
   "id": "cf9383f3",
   "metadata": {
    "scrolled": false
   },
   "outputs": [],
   "source": [
    "over_all_premm, empty_feat_vec, over_all_sep = feat_vec(list_of_premm_infi,list_of_premm_beign,list_of_premm_sep_infi,list_of_premm_sep_beign)"
   ]
  },
  {
   "cell_type": "code",
   "execution_count": 9,
   "id": "b3817830",
   "metadata": {},
   "outputs": [],
   "source": [
    "def fill_empt_vct(over_all_premm,over_all_sep,empty_feat_vec):\n",
    "    for row in range(len(over_all_sep)):\n",
    "        for col in range(len(over_all_premm)):\n",
    "            if over_all_premm[col] in over_all_sep[row]:\n",
    "                empty_feat_vec[row,col] = 1\n",
    "    return empty_feat_vec   "
   ]
  },
  {
   "cell_type": "code",
   "execution_count": 10,
   "id": "c66eda7d",
   "metadata": {},
   "outputs": [],
   "source": [
    "fill_vct = fill_empt_vct(over_all_premm,over_all_sep,empty_feat_vec)"
   ]
  },
  {
   "cell_type": "code",
   "execution_count": 11,
   "id": "1944bc92",
   "metadata": {},
   "outputs": [],
   "source": [
    "def Targets(infi_sep,beign_sep,fill_vct):\n",
    "    targets = [1]*len(infi_sep)\n",
    "    targets += [0]*len(beign_sep)\n",
    "    arr_x, arr_y = shuffle(fill_vct,targets)\n",
    "    return arr_x, arr_y"
   ]
  },
  {
   "cell_type": "code",
   "execution_count": 12,
   "id": "c4fada70",
   "metadata": {},
   "outputs": [],
   "source": [
    "arr_x,arr_y = Targets(list_of_premm_sep_infi,list_of_premm_sep_beign,fill_vct)"
   ]
  },
  {
   "cell_type": "markdown",
   "id": "415aec9b",
   "metadata": {},
   "source": [
    "# Data classification"
   ]
  },
  {
   "cell_type": "code",
   "execution_count": 13,
   "id": "9691f36b",
   "metadata": {},
   "outputs": [],
   "source": [
    "train_X,test_X,train_y,test_y = train_test_split(arr_x,arr_y)"
   ]
  },
  {
   "cell_type": "markdown",
   "id": "4e5d0f81",
   "metadata": {},
   "source": [
    "MLP methods:\n",
    "- lbfgs\n",
    "- adam"
   ]
  },
  {
   "cell_type": "code",
   "execution_count": 14,
   "id": "712bd01d",
   "metadata": {},
   "outputs": [],
   "source": [
    "#Parameters\n",
    "n_of_hidd_lay = 2\n",
    "n_feat = np.shape(arr_x)[1]\n",
    "n_of_hiddneur =  int(n_of_hidd_lay*(np.ceil(np.sqrt(n_feat*1))))"
   ]
  },
  {
   "cell_type": "code",
   "execution_count": 15,
   "id": "ca04f039",
   "metadata": {},
   "outputs": [
    {
     "data": {
      "text/plain": [
       "MLPClassifier(alpha=1e-05, hidden_layer_sizes=(30, 30), random_state=1,\n",
       "              solver='lbfgs')"
      ]
     },
     "execution_count": 15,
     "metadata": {},
     "output_type": "execute_result"
    }
   ],
   "source": [
    "mlp_classifier_lbfgs = MLPClassifier(solver='lbfgs', alpha=1e-5,hidden_layer_sizes=(n_of_hiddneur, n_of_hiddneur), random_state=1)\n",
    "mlp_classifier_lbfgs.fit(train_X,train_y)"
   ]
  },
  {
   "cell_type": "code",
   "execution_count": 16,
   "id": "b1fad447",
   "metadata": {},
   "outputs": [
    {
     "data": {
      "text/plain": [
       "0.9090909090909091"
      ]
     },
     "execution_count": 16,
     "metadata": {},
     "output_type": "execute_result"
    }
   ],
   "source": [
    "mlp_classifier_lbfgs.score(test_X,test_y)"
   ]
  },
  {
   "cell_type": "code",
   "execution_count": 17,
   "id": "e4b77902",
   "metadata": {},
   "outputs": [
    {
     "data": {
      "text/plain": [
       "MLPClassifier(alpha=1e-05, hidden_layer_sizes=(30, 30), max_iter=500,\n",
       "              random_state=1)"
      ]
     },
     "execution_count": 17,
     "metadata": {},
     "output_type": "execute_result"
    }
   ],
   "source": [
    "mlp_classifier_adam = MLPClassifier(solver='adam', alpha=1e-5,hidden_layer_sizes=(n_of_hiddneur, n_of_hiddneur), random_state=1,max_iter=500)\n",
    "mlp_classifier_adam.fit(train_X,train_y)"
   ]
  },
  {
   "cell_type": "code",
   "execution_count": 18,
   "id": "4fe084a6",
   "metadata": {},
   "outputs": [
    {
     "data": {
      "text/plain": [
       "0.7272727272727273"
      ]
     },
     "execution_count": 18,
     "metadata": {},
     "output_type": "execute_result"
    }
   ],
   "source": [
    "mlp_classifier_adam.score(test_X,test_y)"
   ]
  },
  {
   "cell_type": "markdown",
   "id": "d6eefe31",
   "metadata": {},
   "source": [
    "SWM methods:\n",
    "- rbf\n",
    "- poly"
   ]
  },
  {
   "cell_type": "code",
   "execution_count": 19,
   "id": "047d9274",
   "metadata": {},
   "outputs": [],
   "source": [
    "#Parameters\n",
    "C = 1.0 \n",
    "h = 0.02"
   ]
  },
  {
   "cell_type": "code",
   "execution_count": 20,
   "id": "3929ef86",
   "metadata": {},
   "outputs": [
    {
     "data": {
      "text/plain": [
       "SVC(gamma=0.7)"
      ]
     },
     "execution_count": 20,
     "metadata": {},
     "output_type": "execute_result"
    }
   ],
   "source": [
    "SVC_classifier_rbf = SVC(kernel='rbf', gamma=0.7, C=C)\n",
    "SVC_classifier_rbf.fit(train_X,train_y)"
   ]
  },
  {
   "cell_type": "code",
   "execution_count": 21,
   "id": "a6742ddb",
   "metadata": {},
   "outputs": [
    {
     "data": {
      "text/plain": [
       "0.6363636363636364"
      ]
     },
     "execution_count": 21,
     "metadata": {},
     "output_type": "execute_result"
    }
   ],
   "source": [
    "SVC_classifier_rbf.score(test_X,test_y)"
   ]
  },
  {
   "cell_type": "code",
   "execution_count": 22,
   "id": "28b5738a",
   "metadata": {},
   "outputs": [
    {
     "data": {
      "text/plain": [
       "SVC(gamma=0.7, kernel='poly')"
      ]
     },
     "execution_count": 22,
     "metadata": {},
     "output_type": "execute_result"
    }
   ],
   "source": [
    "SVC_classifier_poly = SVC(kernel='poly', gamma=0.7, C=C)\n",
    "SVC_classifier_poly.fit(train_X,train_y)"
   ]
  },
  {
   "cell_type": "code",
   "execution_count": 23,
   "id": "9c5ed146",
   "metadata": {},
   "outputs": [
    {
     "data": {
      "text/plain": [
       "0.9090909090909091"
      ]
     },
     "execution_count": 23,
     "metadata": {},
     "output_type": "execute_result"
    }
   ],
   "source": [
    "SVC_classifier_poly.score(test_X,test_y)"
   ]
  },
  {
   "cell_type": "markdown",
   "id": "77292b71",
   "metadata": {},
   "source": [
    "Decision Trees\n",
    "- regression\n",
    "- classification"
   ]
  },
  {
   "cell_type": "code",
   "execution_count": 24,
   "id": "70169745",
   "metadata": {},
   "outputs": [
    {
     "data": {
      "text/plain": [
       "DecisionTreeClassifier()"
      ]
     },
     "execution_count": 24,
     "metadata": {},
     "output_type": "execute_result"
    }
   ],
   "source": [
    "TREE_classifier = tree.DecisionTreeClassifier()\n",
    "TREE_classifier.fit(train_X,train_y)"
   ]
  },
  {
   "cell_type": "code",
   "execution_count": 25,
   "id": "428cbe56",
   "metadata": {},
   "outputs": [
    {
     "data": {
      "text/plain": [
       "0.8181818181818182"
      ]
     },
     "execution_count": 25,
     "metadata": {},
     "output_type": "execute_result"
    }
   ],
   "source": [
    "TREE_classifier.score(test_X,test_y)"
   ]
  },
  {
   "cell_type": "code",
   "execution_count": 26,
   "id": "40cc90b6",
   "metadata": {},
   "outputs": [
    {
     "data": {
      "text/plain": [
       "DecisionTreeRegressor()"
      ]
     },
     "execution_count": 26,
     "metadata": {},
     "output_type": "execute_result"
    }
   ],
   "source": [
    "TREE_regression = tree.DecisionTreeRegressor()\n",
    "TREE_regression.fit(train_X,train_y)"
   ]
  },
  {
   "cell_type": "code",
   "execution_count": 27,
   "id": "6caddade",
   "metadata": {},
   "outputs": [
    {
     "data": {
      "text/plain": [
       "0.2666666666666666"
      ]
     },
     "execution_count": 27,
     "metadata": {},
     "output_type": "execute_result"
    }
   ],
   "source": [
    "TREE_regression.score(test_X,test_y)"
   ]
  },
  {
   "cell_type": "markdown",
   "id": "919d5fe1",
   "metadata": {},
   "source": [
    "# Cross-validation"
   ]
  },
  {
   "cell_type": "markdown",
   "id": "c180df2a",
   "metadata": {},
   "source": [
    "MLP lbfgs"
   ]
  },
  {
   "cell_type": "code",
   "execution_count": 28,
   "id": "db908367",
   "metadata": {},
   "outputs": [
    {
     "data": {
      "text/plain": [
       "array([0.88888889, 0.88888889, 0.66666667, 0.625     , 0.875     ])"
      ]
     },
     "execution_count": 28,
     "metadata": {},
     "output_type": "execute_result"
    }
   ],
   "source": [
    "mlp_classifier_lbfgsCS = MLPClassifier(solver='lbfgs', alpha=1e-5,hidden_layer_sizes=(n_of_hiddneur, n_of_hiddneur), random_state=1,max_iter=350)\n",
    "scores_lbfgsCS = cross_val_score(mlp_classifier_lbfgsCS, arr_x, arr_y, cv=5)\n",
    "scores_lbfgsCS"
   ]
  },
  {
   "cell_type": "code",
   "execution_count": 29,
   "id": "c16debc9",
   "metadata": {},
   "outputs": [
    {
     "name": "stdout",
     "output_type": "stream",
     "text": [
      "0.79 accuracy with a standard deviation of 0.12\n"
     ]
    }
   ],
   "source": [
    "print(\"%0.2f accuracy with a standard deviation of %0.2f\" % (scores_lbfgsCS.mean(), scores_lbfgsCS.std()))"
   ]
  },
  {
   "cell_type": "code",
   "execution_count": 30,
   "id": "e4e9e288",
   "metadata": {},
   "outputs": [
    {
     "data": {
      "text/html": [
       "<style type=\"text/css\">\n",
       "#T_8d2d0_row0_col0, #T_8d2d0_row1_col1 {\n",
       "  background-color: #008000;\n",
       "  color: #f1f1f1;\n",
       "}\n",
       "#T_8d2d0_row0_col1, #T_8d2d0_row1_col0 {\n",
       "  background-color: #ebf3eb;\n",
       "  color: #000000;\n",
       "}\n",
       "</style>\n",
       "<table id=\"T_8d2d0_\">\n",
       "  <thead>\n",
       "    <tr>\n",
       "      <th class=\"blank level0\" >&nbsp;</th>\n",
       "      <th class=\"col_heading level0 col0\" >0</th>\n",
       "      <th class=\"col_heading level0 col1\" >1</th>\n",
       "    </tr>\n",
       "  </thead>\n",
       "  <tbody>\n",
       "    <tr>\n",
       "      <th id=\"T_8d2d0_level0_row0\" class=\"row_heading level0 row0\" >0</th>\n",
       "      <td id=\"T_8d2d0_row0_col0\" class=\"data row0 col0\" >18</td>\n",
       "      <td id=\"T_8d2d0_row0_col1\" class=\"data row0 col1\" >5</td>\n",
       "    </tr>\n",
       "    <tr>\n",
       "      <th id=\"T_8d2d0_level0_row1\" class=\"row_heading level0 row1\" >1</th>\n",
       "      <td id=\"T_8d2d0_row1_col0\" class=\"data row1 col0\" >4</td>\n",
       "      <td id=\"T_8d2d0_row1_col1\" class=\"data row1 col1\" >16</td>\n",
       "    </tr>\n",
       "  </tbody>\n",
       "</table>\n"
      ],
      "text/plain": [
       "<pandas.io.formats.style.Styler at 0x7f83f44dcaf0>"
      ]
     },
     "execution_count": 30,
     "metadata": {},
     "output_type": "execute_result"
    }
   ],
   "source": [
    "y_pred_lbfgsCS = cross_val_predict(mlp_classifier_lbfgsCS, arr_x, arr_y, cv=5)\n",
    "con_mat = confusion_matrix(arr_y, y_pred_lbfgsCS) #TP,FP / FN,TN\n",
    "con_DF = pd.DataFrame(con_mat)\n",
    "cm = sns.light_palette(\"green\", as_cmap=True)\n",
    "con_DF.style.background_gradient(cmap=cm)"
   ]
  },
  {
   "cell_type": "markdown",
   "id": "022f38a0",
   "metadata": {},
   "source": [
    "MLP Adam"
   ]
  },
  {
   "cell_type": "code",
   "execution_count": 31,
   "id": "4734f08d",
   "metadata": {},
   "outputs": [
    {
     "data": {
      "text/plain": [
       "array([0.55555556, 0.66666667, 0.88888889, 0.75      , 0.75      ])"
      ]
     },
     "execution_count": 31,
     "metadata": {},
     "output_type": "execute_result"
    }
   ],
   "source": [
    "mlp_classifier_adamCS = MLPClassifier(solver='adam', alpha=1e-5,hidden_layer_sizes=(n_of_hiddneur, n_of_hiddneur), random_state=1,max_iter=350)\n",
    "scores_adamCS = cross_val_score(mlp_classifier_adamCS, arr_x, arr_y, cv=5)\n",
    "scores_adamCS"
   ]
  },
  {
   "cell_type": "code",
   "execution_count": 32,
   "id": "417a3388",
   "metadata": {},
   "outputs": [
    {
     "name": "stdout",
     "output_type": "stream",
     "text": [
      "0.72 accuracy with a standard deviation of 0.11\n"
     ]
    }
   ],
   "source": [
    "print(\"%0.2f accuracy with a standard deviation of %0.2f\" % (scores_adamCS.mean(), scores_adamCS.std()))"
   ]
  },
  {
   "cell_type": "code",
   "execution_count": 33,
   "id": "9f4459e6",
   "metadata": {},
   "outputs": [
    {
     "data": {
      "text/html": [
       "<style type=\"text/css\">\n",
       "#T_8e35f_row0_col0, #T_8e35f_row1_col1 {\n",
       "  background-color: #008000;\n",
       "  color: #f1f1f1;\n",
       "}\n",
       "#T_8e35f_row0_col1, #T_8e35f_row1_col0 {\n",
       "  background-color: #ebf3eb;\n",
       "  color: #000000;\n",
       "}\n",
       "</style>\n",
       "<table id=\"T_8e35f_\">\n",
       "  <thead>\n",
       "    <tr>\n",
       "      <th class=\"blank level0\" >&nbsp;</th>\n",
       "      <th class=\"col_heading level0 col0\" >0</th>\n",
       "      <th class=\"col_heading level0 col1\" >1</th>\n",
       "    </tr>\n",
       "  </thead>\n",
       "  <tbody>\n",
       "    <tr>\n",
       "      <th id=\"T_8e35f_level0_row0\" class=\"row_heading level0 row0\" >0</th>\n",
       "      <td id=\"T_8e35f_row0_col0\" class=\"data row0 col0\" >19</td>\n",
       "      <td id=\"T_8e35f_row0_col1\" class=\"data row0 col1\" >4</td>\n",
       "    </tr>\n",
       "    <tr>\n",
       "      <th id=\"T_8e35f_level0_row1\" class=\"row_heading level0 row1\" >1</th>\n",
       "      <td id=\"T_8e35f_row1_col0\" class=\"data row1 col0\" >8</td>\n",
       "      <td id=\"T_8e35f_row1_col1\" class=\"data row1 col1\" >12</td>\n",
       "    </tr>\n",
       "  </tbody>\n",
       "</table>\n"
      ],
      "text/plain": [
       "<pandas.io.formats.style.Styler at 0x7f83b753a9d0>"
      ]
     },
     "execution_count": 33,
     "metadata": {},
     "output_type": "execute_result"
    }
   ],
   "source": [
    "y_pred_adamCS = cross_val_predict(mlp_classifier_adamCS, arr_x, arr_y, cv=5)\n",
    "con_mat = confusion_matrix(arr_y, y_pred_adamCS) #TP,FP / FN,TN\n",
    "con_DF1 = pd.DataFrame(con_mat)\n",
    "cm = sns.light_palette(\"green\", as_cmap=True)\n",
    "con_DF1.style.background_gradient(cmap=cm)"
   ]
  },
  {
   "cell_type": "markdown",
   "id": "5a5d21ff",
   "metadata": {},
   "source": [
    "SVC rbf"
   ]
  },
  {
   "cell_type": "code",
   "execution_count": 34,
   "id": "88c10016",
   "metadata": {},
   "outputs": [
    {
     "data": {
      "text/plain": [
       "array([0.66666667, 0.77777778, 0.77777778, 0.625     , 0.625     ])"
      ]
     },
     "execution_count": 34,
     "metadata": {},
     "output_type": "execute_result"
    }
   ],
   "source": [
    "SVC_classifier_rbfCS = SVC(kernel='rbf', gamma=0.7, C=C)\n",
    "scores_rbfCS = cross_val_score(SVC_classifier_rbfCS, arr_x, arr_y, cv=5)\n",
    "scores_rbfCS"
   ]
  },
  {
   "cell_type": "code",
   "execution_count": 35,
   "id": "f431873e",
   "metadata": {},
   "outputs": [
    {
     "name": "stdout",
     "output_type": "stream",
     "text": [
      "0.69 accuracy with a standard deviation of 0.07\n"
     ]
    }
   ],
   "source": [
    "print(\"%0.2f accuracy with a standard deviation of %0.2f\" % (scores_rbfCS.mean(), scores_rbfCS.std()))"
   ]
  },
  {
   "cell_type": "code",
   "execution_count": 36,
   "id": "02efdc6d",
   "metadata": {},
   "outputs": [
    {
     "data": {
      "text/html": [
       "<style type=\"text/css\">\n",
       "#T_f8d90_row0_col0, #T_f8d90_row1_col1 {\n",
       "  background-color: #008000;\n",
       "  color: #f1f1f1;\n",
       "}\n",
       "#T_f8d90_row0_col1, #T_f8d90_row1_col0 {\n",
       "  background-color: #ebf3eb;\n",
       "  color: #000000;\n",
       "}\n",
       "</style>\n",
       "<table id=\"T_f8d90_\">\n",
       "  <thead>\n",
       "    <tr>\n",
       "      <th class=\"blank level0\" >&nbsp;</th>\n",
       "      <th class=\"col_heading level0 col0\" >0</th>\n",
       "      <th class=\"col_heading level0 col1\" >1</th>\n",
       "    </tr>\n",
       "  </thead>\n",
       "  <tbody>\n",
       "    <tr>\n",
       "      <th id=\"T_f8d90_level0_row0\" class=\"row_heading level0 row0\" >0</th>\n",
       "      <td id=\"T_f8d90_row0_col0\" class=\"data row0 col0\" >23</td>\n",
       "      <td id=\"T_f8d90_row0_col1\" class=\"data row0 col1\" >0</td>\n",
       "    </tr>\n",
       "    <tr>\n",
       "      <th id=\"T_f8d90_level0_row1\" class=\"row_heading level0 row1\" >1</th>\n",
       "      <td id=\"T_f8d90_row1_col0\" class=\"data row1 col0\" >13</td>\n",
       "      <td id=\"T_f8d90_row1_col1\" class=\"data row1 col1\" >7</td>\n",
       "    </tr>\n",
       "  </tbody>\n",
       "</table>\n"
      ],
      "text/plain": [
       "<pandas.io.formats.style.Styler at 0x7f83b753a430>"
      ]
     },
     "execution_count": 36,
     "metadata": {},
     "output_type": "execute_result"
    }
   ],
   "source": [
    "y_pred_rbfCS = cross_val_predict(SVC_classifier_rbfCS, arr_x, arr_y, cv=5)\n",
    "con_mat = confusion_matrix(arr_y, y_pred_rbfCS) #TP,FP / FN,TN\n",
    "con_DF2 = pd.DataFrame(con_mat)\n",
    "cm = sns.light_palette(\"green\", as_cmap=True)\n",
    "con_DF2.style.background_gradient(cmap=cm)"
   ]
  },
  {
   "cell_type": "markdown",
   "id": "03a28e7c",
   "metadata": {},
   "source": [
    "SVC poly"
   ]
  },
  {
   "cell_type": "code",
   "execution_count": 37,
   "id": "5caf3c22",
   "metadata": {},
   "outputs": [
    {
     "data": {
      "text/plain": [
       "array([0.55555556, 1.        , 0.77777778, 0.625     , 0.875     ])"
      ]
     },
     "execution_count": 37,
     "metadata": {},
     "output_type": "execute_result"
    }
   ],
   "source": [
    "SVC_classifier_polyCS = SVC(kernel='poly', gamma=0.7, C=C)\n",
    "scores_polyCS = cross_val_score(SVC_classifier_polyCS, arr_x, arr_y, cv=5)\n",
    "scores_polyCS"
   ]
  },
  {
   "cell_type": "code",
   "execution_count": 38,
   "id": "6072329b",
   "metadata": {},
   "outputs": [
    {
     "name": "stdout",
     "output_type": "stream",
     "text": [
      "0.77 accuracy with a standard deviation of 0.16\n"
     ]
    }
   ],
   "source": [
    "print(\"%0.2f accuracy with a standard deviation of %0.2f\" % (scores_polyCS.mean(), scores_polyCS.std()))"
   ]
  },
  {
   "cell_type": "code",
   "execution_count": 39,
   "id": "02e6fae3",
   "metadata": {},
   "outputs": [
    {
     "data": {
      "text/html": [
       "<style type=\"text/css\">\n",
       "#T_53ff8_row0_col0, #T_53ff8_row1_col1 {\n",
       "  background-color: #008000;\n",
       "  color: #f1f1f1;\n",
       "}\n",
       "#T_53ff8_row0_col1, #T_53ff8_row1_col0 {\n",
       "  background-color: #ebf3eb;\n",
       "  color: #000000;\n",
       "}\n",
       "</style>\n",
       "<table id=\"T_53ff8_\">\n",
       "  <thead>\n",
       "    <tr>\n",
       "      <th class=\"blank level0\" >&nbsp;</th>\n",
       "      <th class=\"col_heading level0 col0\" >0</th>\n",
       "      <th class=\"col_heading level0 col1\" >1</th>\n",
       "    </tr>\n",
       "  </thead>\n",
       "  <tbody>\n",
       "    <tr>\n",
       "      <th id=\"T_53ff8_level0_row0\" class=\"row_heading level0 row0\" >0</th>\n",
       "      <td id=\"T_53ff8_row0_col0\" class=\"data row0 col0\" >20</td>\n",
       "      <td id=\"T_53ff8_row0_col1\" class=\"data row0 col1\" >3</td>\n",
       "    </tr>\n",
       "    <tr>\n",
       "      <th id=\"T_53ff8_level0_row1\" class=\"row_heading level0 row1\" >1</th>\n",
       "      <td id=\"T_53ff8_row1_col0\" class=\"data row1 col0\" >7</td>\n",
       "      <td id=\"T_53ff8_row1_col1\" class=\"data row1 col1\" >13</td>\n",
       "    </tr>\n",
       "  </tbody>\n",
       "</table>\n"
      ],
      "text/plain": [
       "<pandas.io.formats.style.Styler at 0x7f83b75865e0>"
      ]
     },
     "execution_count": 39,
     "metadata": {},
     "output_type": "execute_result"
    }
   ],
   "source": [
    "y_pred_polyCS = cross_val_predict(SVC_classifier_polyCS, arr_x, arr_y, cv=5)\n",
    "con_mat = confusion_matrix(arr_y, y_pred_polyCS) #TP,FP / FN,TN\n",
    "con_DF3 = pd.DataFrame(con_mat)\n",
    "cm = sns.light_palette(\"green\", as_cmap=True)\n",
    "con_DF3.style.background_gradient(cmap=cm)"
   ]
  },
  {
   "cell_type": "code",
   "execution_count": 40,
   "id": "e8f502e7",
   "metadata": {},
   "outputs": [
    {
     "data": {
      "text/plain": [
       "array([0.66666667, 0.77777778, 0.66666667, 0.5       , 0.75      ])"
      ]
     },
     "execution_count": 40,
     "metadata": {},
     "output_type": "execute_result"
    }
   ],
   "source": [
    "TREE_classifierCS = tree.DecisionTreeClassifier()\n",
    "scores_TREE_classifierCS = cross_val_score(TREE_classifierCS, arr_x, arr_y, cv=5)\n",
    "scores_TREE_classifierCS"
   ]
  },
  {
   "cell_type": "code",
   "execution_count": 41,
   "id": "540d3cce",
   "metadata": {},
   "outputs": [
    {
     "name": "stdout",
     "output_type": "stream",
     "text": [
      "0.67 accuracy with a standard deviation of 0.10\n"
     ]
    }
   ],
   "source": [
    "print(\"%0.2f accuracy with a standard deviation of %0.2f\" % (scores_TREE_classifierCS.mean(), scores_TREE_classifierCS.std()))"
   ]
  },
  {
   "cell_type": "code",
   "execution_count": 42,
   "id": "42209080",
   "metadata": {},
   "outputs": [
    {
     "data": {
      "text/html": [
       "<style type=\"text/css\">\n",
       "#T_7355c_row0_col0, #T_7355c_row1_col1 {\n",
       "  background-color: #008000;\n",
       "  color: #f1f1f1;\n",
       "}\n",
       "#T_7355c_row0_col1, #T_7355c_row1_col0 {\n",
       "  background-color: #ebf3eb;\n",
       "  color: #000000;\n",
       "}\n",
       "</style>\n",
       "<table id=\"T_7355c_\">\n",
       "  <thead>\n",
       "    <tr>\n",
       "      <th class=\"blank level0\" >&nbsp;</th>\n",
       "      <th class=\"col_heading level0 col0\" >0</th>\n",
       "      <th class=\"col_heading level0 col1\" >1</th>\n",
       "    </tr>\n",
       "  </thead>\n",
       "  <tbody>\n",
       "    <tr>\n",
       "      <th id=\"T_7355c_level0_row0\" class=\"row_heading level0 row0\" >0</th>\n",
       "      <td id=\"T_7355c_row0_col0\" class=\"data row0 col0\" >17</td>\n",
       "      <td id=\"T_7355c_row0_col1\" class=\"data row0 col1\" >6</td>\n",
       "    </tr>\n",
       "    <tr>\n",
       "      <th id=\"T_7355c_level0_row1\" class=\"row_heading level0 row1\" >1</th>\n",
       "      <td id=\"T_7355c_row1_col0\" class=\"data row1 col0\" >6</td>\n",
       "      <td id=\"T_7355c_row1_col1\" class=\"data row1 col1\" >14</td>\n",
       "    </tr>\n",
       "  </tbody>\n",
       "</table>\n"
      ],
      "text/plain": [
       "<pandas.io.formats.style.Styler at 0x7f83b7586a60>"
      ]
     },
     "execution_count": 42,
     "metadata": {},
     "output_type": "execute_result"
    }
   ],
   "source": [
    "y_pred_TREE_classifierCS = cross_val_predict(TREE_classifierCS, arr_x, arr_y, cv=5)\n",
    "con_mat = confusion_matrix(arr_y, y_pred_TREE_classifierCS) #TP,FP / FN,TN\n",
    "con_DF4 = pd.DataFrame(con_mat)\n",
    "cm = sns.light_palette(\"green\", as_cmap=True)\n",
    "con_DF4.style.background_gradient(cmap=cm)"
   ]
  },
  {
   "cell_type": "code",
   "execution_count": 43,
   "id": "16428faa",
   "metadata": {},
   "outputs": [
    {
     "data": {
      "text/plain": [
       "array([-0.35      ,  0.1       , -1.        ,  0.        , -1.66666667])"
      ]
     },
     "execution_count": 43,
     "metadata": {},
     "output_type": "execute_result"
    }
   ],
   "source": [
    "TREE_regressionCS = tree.DecisionTreeRegressor()\n",
    "scores_TREE_regressionCS = cross_val_score(TREE_regressionCS, arr_x, arr_y, cv=5)\n",
    "scores_TREE_regressionCS"
   ]
  },
  {
   "cell_type": "code",
   "execution_count": 44,
   "id": "d5820dd6",
   "metadata": {},
   "outputs": [
    {
     "name": "stdout",
     "output_type": "stream",
     "text": [
      "-0.58 accuracy with a standard deviation of 0.66\n"
     ]
    }
   ],
   "source": [
    "print(\"%0.2f accuracy with a standard deviation of %0.2f\" % (scores_TREE_regressionCS.mean(), scores_TREE_regressionCS.std()))"
   ]
  },
  {
   "cell_type": "code",
   "execution_count": null,
   "id": "71e927c7",
   "metadata": {},
   "outputs": [],
   "source": []
  },
  {
   "cell_type": "code",
   "execution_count": null,
   "id": "fea336a8",
   "metadata": {},
   "outputs": [],
   "source": []
  },
  {
   "cell_type": "code",
   "execution_count": null,
   "id": "57b5a758",
   "metadata": {},
   "outputs": [],
   "source": []
  },
  {
   "cell_type": "code",
   "execution_count": null,
   "id": "2a1266dc",
   "metadata": {},
   "outputs": [],
   "source": []
  }
 ],
 "metadata": {
  "kernelspec": {
   "display_name": "Python 3",
   "language": "python",
   "name": "python3"
  },
  "language_info": {
   "codemirror_mode": {
    "name": "ipython",
    "version": 3
   },
   "file_extension": ".py",
   "mimetype": "text/x-python",
   "name": "python",
   "nbconvert_exporter": "python",
   "pygments_lexer": "ipython3",
   "version": "3.8.8"
  },
  "toc": {
   "base_numbering": 1,
   "nav_menu": {},
   "number_sections": true,
   "sideBar": true,
   "skip_h1_title": false,
   "title_cell": "Table of Contents",
   "title_sidebar": "Contents",
   "toc_cell": false,
   "toc_position": {},
   "toc_section_display": true,
   "toc_window_display": false
  },
  "varInspector": {
   "cols": {
    "lenName": 16,
    "lenType": 16,
    "lenVar": 40
   },
   "kernels_config": {
    "python": {
     "delete_cmd_postfix": "",
     "delete_cmd_prefix": "del ",
     "library": "var_list.py",
     "varRefreshCmd": "print(var_dic_list())"
    },
    "r": {
     "delete_cmd_postfix": ") ",
     "delete_cmd_prefix": "rm(",
     "library": "var_list.r",
     "varRefreshCmd": "cat(var_dic_list()) "
    }
   },
   "types_to_exclude": [
    "module",
    "function",
    "builtin_function_or_method",
    "instance",
    "_Feature"
   ],
   "window_display": false
  }
 },
 "nbformat": 4,
 "nbformat_minor": 5
}
